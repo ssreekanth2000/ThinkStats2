{
 "cells": [
  {
   "cell_type": "markdown",
   "metadata": {},
   "source": [
    "# Homework 1\n",
    "\n",
    "Load and validate GSS data\n",
    "\n",
    "Allen Downey\n",
    "\n",
    "[MIT License](https://en.wikipedia.org/wiki/MIT_License)"
   ]
  },
  {
   "cell_type": "code",
   "execution_count": 8,
   "metadata": {},
   "outputs": [],
   "source": [
    "%matplotlib inline\n",
    "\n",
    "import pandas as pd\n",
    "import numpy as np\n",
    "\n",
    "import matplotlib.pyplot as plt\n",
    "import seaborn as sns\n",
    "sns.set(style='white')\n",
    "\n",
    "import utils\n",
    "from utils import decorate\n",
    "from thinkstats2 import Pmf, Cdf"
   ]
  },
  {
   "cell_type": "markdown",
   "metadata": {},
   "source": [
    "## Loading and validation\n"
   ]
  },
  {
   "cell_type": "code",
   "execution_count": 9,
   "metadata": {},
   "outputs": [],
   "source": [
    "def read_gss(dirname):\n",
    "    \"\"\"Reads GSS files from the given directory.\n",
    "    \n",
    "    dirname: string\n",
    "    \n",
    "    returns: DataFrame\n",
    "    \"\"\"\n",
    "    dct = utils.read_stata_dict(dirname + '/GSS.dct')\n",
    "    gss = dct.read_fixed_width(dirname + '/GSS.dat.gz',\n",
    "                             compression='gzip')\n",
    "    return gss"
   ]
  },
  {
   "cell_type": "markdown",
   "metadata": {},
   "source": [
    "Read the variables I selected from the GSS dataset.  You can look up these variables at https://gssdataexplorer.norc.org/variables/vfilter"
   ]
  },
  {
   "cell_type": "code",
   "execution_count": 10,
   "metadata": {},
   "outputs": [
    {
     "name": "stdout",
     "output_type": "stream",
     "text": [
      "(62466, 101)\n"
     ]
    },
    {
     "data": {
      "text/html": [
       "<div>\n",
       "<style scoped>\n",
       "    .dataframe tbody tr th:only-of-type {\n",
       "        vertical-align: middle;\n",
       "    }\n",
       "\n",
       "    .dataframe tbody tr th {\n",
       "        vertical-align: top;\n",
       "    }\n",
       "\n",
       "    .dataframe thead th {\n",
       "        text-align: right;\n",
       "    }\n",
       "</style>\n",
       "<table border=\"1\" class=\"dataframe\">\n",
       "  <thead>\n",
       "    <tr style=\"text-align: right;\">\n",
       "      <th></th>\n",
       "      <th>year</th>\n",
       "      <th>id_</th>\n",
       "      <th>agewed</th>\n",
       "      <th>divorce</th>\n",
       "      <th>sibs</th>\n",
       "      <th>childs</th>\n",
       "      <th>age</th>\n",
       "      <th>educ</th>\n",
       "      <th>paeduc</th>\n",
       "      <th>maeduc</th>\n",
       "      <th>...</th>\n",
       "      <th>memchurh</th>\n",
       "      <th>realinc</th>\n",
       "      <th>cohort</th>\n",
       "      <th>marcohrt</th>\n",
       "      <th>ballot</th>\n",
       "      <th>wtssall</th>\n",
       "      <th>adults</th>\n",
       "      <th>compuse</th>\n",
       "      <th>databank</th>\n",
       "      <th>wtssnr</th>\n",
       "    </tr>\n",
       "  </thead>\n",
       "  <tbody>\n",
       "    <tr>\n",
       "      <th>0</th>\n",
       "      <td>1972</td>\n",
       "      <td>1</td>\n",
       "      <td>0</td>\n",
       "      <td>0</td>\n",
       "      <td>3</td>\n",
       "      <td>0</td>\n",
       "      <td>23</td>\n",
       "      <td>16</td>\n",
       "      <td>10</td>\n",
       "      <td>97</td>\n",
       "      <td>...</td>\n",
       "      <td>0</td>\n",
       "      <td>18951.0</td>\n",
       "      <td>1949</td>\n",
       "      <td>0</td>\n",
       "      <td>0</td>\n",
       "      <td>0.4446</td>\n",
       "      <td>1</td>\n",
       "      <td>0</td>\n",
       "      <td>0</td>\n",
       "      <td>1.0</td>\n",
       "    </tr>\n",
       "    <tr>\n",
       "      <th>1</th>\n",
       "      <td>1972</td>\n",
       "      <td>2</td>\n",
       "      <td>21</td>\n",
       "      <td>2</td>\n",
       "      <td>4</td>\n",
       "      <td>5</td>\n",
       "      <td>70</td>\n",
       "      <td>10</td>\n",
       "      <td>8</td>\n",
       "      <td>8</td>\n",
       "      <td>...</td>\n",
       "      <td>0</td>\n",
       "      <td>24366.0</td>\n",
       "      <td>1902</td>\n",
       "      <td>1923</td>\n",
       "      <td>0</td>\n",
       "      <td>0.8893</td>\n",
       "      <td>2</td>\n",
       "      <td>0</td>\n",
       "      <td>0</td>\n",
       "      <td>1.0</td>\n",
       "    </tr>\n",
       "    <tr>\n",
       "      <th>2</th>\n",
       "      <td>1972</td>\n",
       "      <td>3</td>\n",
       "      <td>20</td>\n",
       "      <td>2</td>\n",
       "      <td>5</td>\n",
       "      <td>4</td>\n",
       "      <td>48</td>\n",
       "      <td>12</td>\n",
       "      <td>8</td>\n",
       "      <td>8</td>\n",
       "      <td>...</td>\n",
       "      <td>0</td>\n",
       "      <td>24366.0</td>\n",
       "      <td>1924</td>\n",
       "      <td>1944</td>\n",
       "      <td>0</td>\n",
       "      <td>0.8893</td>\n",
       "      <td>2</td>\n",
       "      <td>0</td>\n",
       "      <td>0</td>\n",
       "      <td>1.0</td>\n",
       "    </tr>\n",
       "    <tr>\n",
       "      <th>3</th>\n",
       "      <td>1972</td>\n",
       "      <td>4</td>\n",
       "      <td>24</td>\n",
       "      <td>2</td>\n",
       "      <td>5</td>\n",
       "      <td>0</td>\n",
       "      <td>27</td>\n",
       "      <td>17</td>\n",
       "      <td>16</td>\n",
       "      <td>12</td>\n",
       "      <td>...</td>\n",
       "      <td>0</td>\n",
       "      <td>30458.0</td>\n",
       "      <td>1945</td>\n",
       "      <td>1969</td>\n",
       "      <td>0</td>\n",
       "      <td>0.8893</td>\n",
       "      <td>2</td>\n",
       "      <td>0</td>\n",
       "      <td>0</td>\n",
       "      <td>1.0</td>\n",
       "    </tr>\n",
       "    <tr>\n",
       "      <th>4</th>\n",
       "      <td>1972</td>\n",
       "      <td>5</td>\n",
       "      <td>22</td>\n",
       "      <td>2</td>\n",
       "      <td>2</td>\n",
       "      <td>2</td>\n",
       "      <td>61</td>\n",
       "      <td>12</td>\n",
       "      <td>8</td>\n",
       "      <td>8</td>\n",
       "      <td>...</td>\n",
       "      <td>0</td>\n",
       "      <td>50763.0</td>\n",
       "      <td>1911</td>\n",
       "      <td>1933</td>\n",
       "      <td>0</td>\n",
       "      <td>0.8893</td>\n",
       "      <td>2</td>\n",
       "      <td>0</td>\n",
       "      <td>0</td>\n",
       "      <td>1.0</td>\n",
       "    </tr>\n",
       "  </tbody>\n",
       "</table>\n",
       "<p>5 rows × 101 columns</p>\n",
       "</div>"
      ],
      "text/plain": [
       "   year  id_  agewed  divorce  sibs  childs  age  educ  paeduc  maeduc  \\\n",
       "0  1972    1       0        0     3       0   23    16      10      97   \n",
       "1  1972    2      21        2     4       5   70    10       8       8   \n",
       "2  1972    3      20        2     5       4   48    12       8       8   \n",
       "3  1972    4      24        2     5       0   27    17      16      12   \n",
       "4  1972    5      22        2     2       2   61    12       8       8   \n",
       "\n",
       "    ...    memchurh  realinc  cohort  marcohrt  ballot  wtssall  adults  \\\n",
       "0   ...           0  18951.0    1949         0       0   0.4446       1   \n",
       "1   ...           0  24366.0    1902      1923       0   0.8893       2   \n",
       "2   ...           0  24366.0    1924      1944       0   0.8893       2   \n",
       "3   ...           0  30458.0    1945      1969       0   0.8893       2   \n",
       "4   ...           0  50763.0    1911      1933       0   0.8893       2   \n",
       "\n",
       "   compuse  databank  wtssnr  \n",
       "0        0         0     1.0  \n",
       "1        0         0     1.0  \n",
       "2        0         0     1.0  \n",
       "3        0         0     1.0  \n",
       "4        0         0     1.0  \n",
       "\n",
       "[5 rows x 101 columns]"
      ]
     },
     "execution_count": 10,
     "metadata": {},
     "output_type": "execute_result"
    }
   ],
   "source": [
    "gss = read_gss('gss_eda')\n",
    "print(gss.shape)\n",
    "gss.head()"
   ]
  },
  {
   "cell_type": "markdown",
   "metadata": {},
   "source": [
    "Most variables use special codes to indicate missing data.  We have to be careful not to use these codes as numerical data; one way to manage that is to replace them with `NaN`, which Pandas recognizes as a missing value."
   ]
  },
  {
   "cell_type": "code",
   "execution_count": 11,
   "metadata": {},
   "outputs": [],
   "source": [
    "def replace_invalid(df):\n",
    "    df.realinc.replace([0], np.nan, inplace=True)                  \n",
    "    df.educ.replace([98,99], np.nan, inplace=True)\n",
    "    # 89 means 89 or older\n",
    "    df.age.replace([98, 99], np.nan, inplace=True) \n",
    "    df.cohort.replace([9999], np.nan, inplace=True)\n",
    "    df.adults.replace([9], np.nan, inplace=True)\n",
    "\n",
    "replace_invalid(gss)"
   ]
  },
  {
   "cell_type": "markdown",
   "metadata": {},
   "source": [
    "Here are summary statistics for the variables I have validated and cleaned."
   ]
  },
  {
   "cell_type": "code",
   "execution_count": 12,
   "metadata": {},
   "outputs": [
    {
     "data": {
      "text/plain": [
       "count    62466.000000\n",
       "mean      1994.072359\n",
       "std         12.937941\n",
       "min       1972.000000\n",
       "25%       1984.000000\n",
       "50%       1994.000000\n",
       "75%       2006.000000\n",
       "max       2016.000000\n",
       "Name: year, dtype: float64"
      ]
     },
     "execution_count": 12,
     "metadata": {},
     "output_type": "execute_result"
    }
   ],
   "source": [
    "gss['year'].describe()"
   ]
  },
  {
   "cell_type": "code",
   "execution_count": 13,
   "metadata": {},
   "outputs": [
    {
     "data": {
      "text/plain": [
       "count    62466.000000\n",
       "mean         1.558768\n",
       "std          0.496538\n",
       "min          1.000000\n",
       "25%          1.000000\n",
       "50%          2.000000\n",
       "75%          2.000000\n",
       "max          2.000000\n",
       "Name: sex, dtype: float64"
      ]
     },
     "execution_count": 13,
     "metadata": {},
     "output_type": "execute_result"
    }
   ],
   "source": [
    "gss['sex'].describe()"
   ]
  },
  {
   "cell_type": "code",
   "execution_count": 14,
   "metadata": {},
   "outputs": [
    {
     "data": {
      "text/plain": [
       "count    62245.000000\n",
       "mean        45.991341\n",
       "std         17.505563\n",
       "min         18.000000\n",
       "25%         31.000000\n",
       "50%         44.000000\n",
       "75%         59.000000\n",
       "max         89.000000\n",
       "Name: age, dtype: float64"
      ]
     },
     "execution_count": 14,
     "metadata": {},
     "output_type": "execute_result"
    }
   ],
   "source": [
    "gss['age'].describe()"
   ]
  },
  {
   "cell_type": "code",
   "execution_count": 15,
   "metadata": {},
   "outputs": [
    {
     "data": {
      "text/plain": [
       "count    62245.000000\n",
       "mean      1948.087075\n",
       "std         20.998696\n",
       "min       1883.000000\n",
       "25%       1934.000000\n",
       "50%       1950.000000\n",
       "75%       1963.000000\n",
       "max       1998.000000\n",
       "Name: cohort, dtype: float64"
      ]
     },
     "execution_count": 15,
     "metadata": {},
     "output_type": "execute_result"
    }
   ],
   "source": [
    "gss['cohort'].describe()"
   ]
  },
  {
   "cell_type": "code",
   "execution_count": 16,
   "metadata": {},
   "outputs": [
    {
     "data": {
      "text/plain": [
       "count    62466.000000\n",
       "mean         1.247335\n",
       "std          0.540917\n",
       "min          1.000000\n",
       "25%          1.000000\n",
       "50%          1.000000\n",
       "75%          1.000000\n",
       "max          3.000000\n",
       "Name: race, dtype: float64"
      ]
     },
     "execution_count": 16,
     "metadata": {},
     "output_type": "execute_result"
    }
   ],
   "source": [
    "gss['race'].describe()"
   ]
  },
  {
   "cell_type": "code",
   "execution_count": 17,
   "metadata": {},
   "outputs": [
    {
     "data": {
      "text/plain": [
       "count    62292.000000\n",
       "mean        12.837234\n",
       "std          3.179130\n",
       "min          0.000000\n",
       "25%         12.000000\n",
       "50%         12.000000\n",
       "75%         15.000000\n",
       "max         20.000000\n",
       "Name: educ, dtype: float64"
      ]
     },
     "execution_count": 17,
     "metadata": {},
     "output_type": "execute_result"
    }
   ],
   "source": [
    "gss['educ'].describe()"
   ]
  },
  {
   "cell_type": "code",
   "execution_count": 20,
   "metadata": {},
   "outputs": [
    {
     "data": {
      "text/plain": [
       "count     56141.000000\n",
       "mean      31636.199666\n",
       "std       29402.370825\n",
       "min         234.000000\n",
       "25%       12080.625000\n",
       "50%       24097.500000\n",
       "75%       39022.500000\n",
       "max      162607.000000\n",
       "Name: realinc, dtype: float64"
      ]
     },
     "execution_count": 20,
     "metadata": {},
     "output_type": "execute_result"
    }
   ],
   "source": [
    "gss['realinc'].describe()"
   ]
  },
  {
   "cell_type": "code",
   "execution_count": 21,
   "metadata": {},
   "outputs": [
    {
     "data": {
      "text/plain": [
       "count    62466.000000\n",
       "mean         1.000016\n",
       "std          0.461927\n",
       "min          0.391825\n",
       "25%          0.550100\n",
       "50%          0.988100\n",
       "75%          1.098500\n",
       "max          8.739876\n",
       "Name: wtssall, dtype: float64"
      ]
     },
     "execution_count": 21,
     "metadata": {},
     "output_type": "execute_result"
    }
   ],
   "source": [
    "gss['wtssall'].describe()"
   ]
  },
  {
   "cell_type": "markdown",
   "metadata": {},
   "source": [
    "**Exercise** \n",
    "\n",
    "1. Look through the column headings to find a few variables that look interesting.  Look them up on the GSS data explorer.  \n",
    "\n",
    "2. Use `value_counts` to see what values appear in the dataset, and compare the results with the counts in the code book.  \n",
    "\n",
    "3. Identify special values that indicate missing data and replace them with `NaN`.\n",
    "\n",
    "4. Use `describe` to compute summary statistics.  What do you notice?"
   ]
  },
  {
   "cell_type": "markdown",
   "metadata": {},
   "source": [
    "## Visualize distributions\n",
    "\n",
    "Let's visualize the distributions of the variables we've selected.\n",
    "\n",
    "Here's a Hist of the values in `educ`:"
   ]
  },
  {
   "cell_type": "code",
   "execution_count": 22,
   "metadata": {},
   "outputs": [
    {
     "data": {
      "image/png": "[encoded data removed]",
      "text/plain": [
       "<Figure size 432x288 with 1 Axes>"
      ]
     },
     "metadata": {},
     "output_type": "display_data"
    }
   ],
   "source": [
    "from thinkstats2 import Hist, Pmf, Cdf\n",
    "import thinkplot\n",
    "\n",
    "hist_educ = Hist(gss.educ)\n",
    "thinkplot.hist(hist_educ)\n",
    "decorate(xlabel='Years of education', \n",
    "         ylabel='Count')"
   ]
  },
  {
   "cell_type": "markdown",
   "metadata": {},
   "source": [
    "`Hist` as defined in `thinkstats2` is different from `hist` as defined in Matplotlib.  The difference is that `Hist` keeps all unique values and does not put them in bins.  Also, `hist` does not handle `NaN`.\n",
    "\n",
    "One of the hazards of using `hist` is that the shape of the result depends on the bin size.\n",
    "\n",
    "**Exercise:** \n",
    "\n",
    "1. Run the following cell and compare the result to the `Hist` above.\n",
    "\n",
    "2. Add the keyword argument `bins=11` to `plt.hist` and see how it changes the results.\n",
    "\n",
    "3. Experiment with other numbers of bins."
   ]
  },
  {
   "cell_type": "code",
   "execution_count": 23,
   "metadata": {},
   "outputs": [
    {
     "data": {
      "image/png": "[encoded data removed]",
      "text/plain": [
       "<Figure size 432x288 with 1 Axes>"
      ]
     },
     "metadata": {},
     "output_type": "display_data"
    }
   ],
   "source": [
    "import matplotlib.pyplot as plt\n",
    "\n",
    "plt.hist(gss.educ.dropna())\n",
    "decorate(xlabel='Years of education', \n",
    "         ylabel='Count')"
   ]
  },
  {
   "cell_type": "markdown",
   "metadata": {},
   "source": [
    "However, a drawback of `Hist` and `Pmf` is that they basically don't work when the number of unique values is large, as in this example:"
   ]
  },
  {
   "cell_type": "code",
   "execution_count": 24,
   "metadata": {},
   "outputs": [
    {
     "data": {
      "image/png": "[encoded data removed]",
      "text/plain": [
       "<Figure size 432x288 with 1 Axes>"
      ]
     },
     "metadata": {},
     "output_type": "display_data"
    }
   ],
   "source": [
    "hist_realinc = Hist(gss.realinc)\n",
    "thinkplot.hist(hist_realinc)\n",
    "decorate(xlabel='Real income (1986 USD)', \n",
    "         ylabel='Count')"
   ]
  },
  {
   "cell_type": "markdown",
   "metadata": {},
   "source": [
    "**Exercise:**\n",
    "    \n",
    "1. Make and plot a `Hist` of `age`.\n",
    "\n",
    "2. Make and plot a `Pmf` of `educ`.\n",
    "\n",
    "3. What fraction of people have 12, 14, and 16 years of education?"
   ]
  },
  {
   "cell_type": "code",
   "execution_count": 25,
   "metadata": {},
   "outputs": [
    {
     "data": {
      "image/png": "[encoded data removed]",
      "text/plain": [
       "<Figure size 432x288 with 1 Axes>"
      ]
     },
     "metadata": {},
     "output_type": "display_data"
    }
   ],
   "source": [
    "plt.hist(gss.age.dropna())\n",
    "decorate(xlabel='Age', \n",
    "         ylabel='Count')"
   ]
  },
  {
   "cell_type": "code",
   "execution_count": 26,
   "metadata": {},
   "outputs": [
    {
     "data": {
      "image/png": "[encoded data removed]",
      "text/plain": [
       "<Figure size 432x288 with 1 Axes>"
      ]
     },
     "metadata": {},
     "output_type": "display_data"
    }
   ],
   "source": [
    "from thinkstats2 import Hist, Pmf, Cdf\n",
    "import thinkplot\n",
    "\n",
    "pmf_educ = Pmf(gss.educ)\n",
    "thinkplot.pmf(pmf_educ)\n",
    "decorate(xlabel='Years of education', \n",
    "         ylabel='Count')"
   ]
  },
  {
   "cell_type": "code",
   "execution_count": 27,
   "metadata": {},
   "outputs": [
    {
     "data": {
      "text/plain": [
       "0.0       161\n",
       "1.0        45\n",
       "2.0       148\n",
       "3.0       247\n",
       "4.0       314\n",
       "5.0       399\n",
       "6.0       808\n",
       "7.0       871\n",
       "8.0      2689\n",
       "9.0      2032\n",
       "10.0     2815\n",
       "11.0     3648\n",
       "12.0    19006\n",
       "13.0     5177\n",
       "14.0     6847\n",
       "15.0     2783\n",
       "16.0     7925\n",
       "17.0     1870\n",
       "18.0     2265\n",
       "19.0      875\n",
       "20.0     1367\n",
       "Name: educ, dtype: int64"
      ]
     },
     "execution_count": 27,
     "metadata": {},
     "output_type": "execute_result"
    }
   ],
   "source": [
    "gss.educ.value_counts().sort_index()"
   ]
  },
  {
   "cell_type": "code",
   "execution_count": 28,
   "metadata": {},
   "outputs": [],
   "source": [
    "# Solution goes here"
   ]
  },
  {
   "cell_type": "code",
   "execution_count": 29,
   "metadata": {},
   "outputs": [],
   "source": [
    "# Solution goes here"
   ]
  },
  {
   "cell_type": "markdown",
   "metadata": {},
   "source": [
    "**Exercise:**\n",
    "    \n",
    "1. Make and plot a `Cdf` of `educ`.\n",
    "\n",
    "2. What fraction of people have more than 12 years of education?"
   ]
  },
  {
   "cell_type": "code",
   "execution_count": 30,
   "metadata": {},
   "outputs": [
    {
     "data": {
      "image/png": "[encoded data removed]",
      "text/plain": [
       "<Figure size 432x288 with 1 Axes>"
      ]
     },
     "metadata": {},
     "output_type": "display_data"
    }
   ],
   "source": [
    "from thinkstats2 import Hist, Pmf, Cdf\n",
    "import thinkplot\n",
    "\n",
    "cdf_educ = Cdf(gss.educ)\n",
    "thinkplot.cdf(cdf_educ)\n",
    "decorate(xlabel='Years of education', \n",
    "         ylabel='Count')"
   ]
  },
  {
   "cell_type": "code",
   "execution_count": 31,
   "metadata": {},
   "outputs": [
    {
     "data": {
      "text/plain": [
       "Cdf([ 0.  1.  2.  3.  4.  5.  6.  7.  8.  9. 10. 11. 12. 13. 14. 15. 16. 17.\n",
       " 18. 19. 20.], [0.0025846  0.00330701 0.00568291 0.00964811 0.01468888 0.0210942\n",
       " 0.03406537 0.0480479  0.09121557 0.12383613 0.16902652 0.22758942\n",
       " 0.53270083 0.61580941 0.72572722 0.7704039  0.8976273  0.92764721\n",
       " 0.96400822 0.97805497 1.        ])"
      ]
     },
     "execution_count": 31,
     "metadata": {},
     "output_type": "execute_result"
    }
   ],
   "source": [
    "Cdf(gss.educ)"
   ]
  },
  {
   "cell_type": "code",
   "execution_count": 32,
   "metadata": {},
   "outputs": [],
   "source": [
    "# Solution goes here"
   ]
  },
  {
   "cell_type": "markdown",
   "metadata": {},
   "source": [
    "**Exercise:**\n",
    "    \n",
    "1. Make and plot a `Cdf` of `age`.\n",
    "\n",
    "2. What is the median age?  What is the inter-quartile range (IQR)?"
   ]
  },
  {
   "cell_type": "code",
   "execution_count": 33,
   "metadata": {},
   "outputs": [
    {
     "data": {
      "image/png": "[encoded data removed]",
      "text/plain": [
       "<Figure size 432x288 with 1 Axes>"
      ]
     },
     "metadata": {},
     "output_type": "display_data"
    }
   ],
   "source": [
    "from thinkstats2 import Hist, Pmf, Cdf\n",
    "import thinkplot\n",
    "\n",
    "cdf_age = Cdf(gss.age)\n",
    "thinkplot.cdf(cdf_age)\n",
    "decorate(xlabel='Age', \n",
    "         ylabel='Count')"
   ]
  },
  {
   "cell_type": "code",
   "execution_count": 34,
   "metadata": {},
   "outputs": [
    {
     "data": {
      "text/plain": [
       "Cdf([ 0.  1.  2.  3.  4.  5.  6.  7.  8.  9. 10. 11. 12. 13. 14. 15. 16. 17.\n",
       " 18. 19. 20.], [0.0025846  0.00330701 0.00568291 0.00964811 0.01468888 0.0210942\n",
       " 0.03406537 0.0480479  0.09121557 0.12383613 0.16902652 0.22758942\n",
       " 0.53270083 0.61580941 0.72572722 0.7704039  0.8976273  0.92764721\n",
       " 0.96400822 0.97805497 1.        ])"
      ]
     },
     "execution_count": 34,
     "metadata": {},
     "output_type": "execute_result"
    }
   ],
   "source": [
    "Cdf(gss.educ)"
   ]
  },
  {
   "cell_type": "code",
   "execution_count": null,
   "metadata": {},
   "outputs": [],
   "source": []
  },
  {
   "cell_type": "code",
   "execution_count": 36,
   "metadata": {},
   "outputs": [
    {
     "data": {
      "text/plain": [
       "62.0"
      ]
     },
     "execution_count": 36,
     "metadata": {},
     "output_type": "execute_result"
    }
   ],
   "source": [
    "import statistics\n",
    "statistics.median(gss.age)"
   ]
  },
  {
   "cell_type": "markdown",
   "metadata": {},
   "source": [
    "**Exercise:**\n",
    "\n",
    "Find another numerical variable, plot a histogram, PMF, and CDF, and compute any statistics of interest."
   ]
  },
  {
   "cell_type": "code",
   "execution_count": 37,
   "metadata": {},
   "outputs": [
    {
     "data": {
      "image/png": "[encoded data removed]",
      "text/plain": [
       "<Figure size 432x288 with 1 Axes>"
      ]
     },
     "metadata": {},
     "output_type": "display_data"
    }
   ],
   "source": [
    "from thinkstats2 import Hist, Pmf, Cdf\n",
    "import thinkplot\n",
    "\n",
    "cdf_age = Cdf(gss.agewed)\n",
    "thinkplot.cdf(cdf_age)\n",
    "decorate(xlabel='Age', \n",
    "         ylabel='Count')"
   ]
  },
  {
   "cell_type": "code",
   "execution_count": 38,
   "metadata": {},
   "outputs": [
    {
     "data": {
      "image/png": "[encoded data removed]",
      "text/plain": [
       "<Figure size 432x288 with 1 Axes>"
      ]
     },
     "metadata": {},
     "output_type": "display_data"
    }
   ],
   "source": [
    "from thinkstats2 import Hist, Pmf, Cdf\n",
    "import thinkplot\n",
    "\n",
    "hist_age = Hist(gss.agewed)\n",
    "thinkplot.hist(hist_age)\n",
    "decorate(xlabel='Age', \n",
    "         ylabel='Count')"
   ]
  },
  {
   "cell_type": "code",
   "execution_count": 39,
   "metadata": {},
   "outputs": [
    {
     "data": {
      "image/png": "[encoded data removed]",
      "text/plain": [
       "<Figure size 432x288 with 1 Axes>"
      ]
     },
     "metadata": {},
     "output_type": "display_data"
    }
   ],
   "source": [
    "from thinkstats2 import Hist, Pmf, Cdf\n",
    "import thinkplot\n",
    "\n",
    "pmf_age = Pmf(gss.agewed)\n",
    "thinkplot.hist(pmf_age)\n",
    "decorate(xlabel='Age', \n",
    "         ylabel='Count')"
   ]
  },
  {
   "cell_type": "code",
   "execution_count": 40,
   "metadata": {},
   "outputs": [
    {
     "data": {
      "text/plain": [
       "9.73816155988858"
      ]
     },
     "execution_count": 40,
     "metadata": {},
     "output_type": "execute_result"
    }
   ],
   "source": [
    "import statistics\n",
    "statistics.median(gss.agewed)\n",
    "gss.agewed.mean() #Again a reason why just mean isn't inough"
   ]
  },
  {
   "cell_type": "markdown",
   "metadata": {},
   "source": [
    "**Exercise:**\n",
    "\n",
    "1. Compute the CDF of `realinc` for male and female respondents, and plot both CDFs on the same axes.\n",
    "\n",
    "2. What is the difference in median income between the two groups?"
   ]
  },
  {
   "cell_type": "code",
   "execution_count": 43,
   "metadata": {},
   "outputs": [
    {
     "name": "stderr",
     "output_type": "stream",
     "text": [
      "No handles with labels found to put in legend.\n"
     ]
    },
    {
     "data": {
      "image/png": "[encoded data removed]",
      "text/plain": [
       "<Figure size 432x288 with 1 Axes>"
      ]
     },
     "metadata": {},
     "output_type": "display_data"
    }
   ],
   "source": [
    "from thinkstats2 import Hist, Pmf, Cdf\n",
    "import thinkplot\n",
    "cdf_men=Cdf(gss.realinc[gss.sex==1])\n",
    "cdf_women=Cdf(gss.realinc[gss.sex==2])\n",
    "width = 0.45\n",
    "thinkplot.PrePlot(2)\n",
    "thinkplot.Cdfs([cdf_men, cdf_women])\n",
    "thinkplot.Config(xlabel='income', ylabel='Count')"
   ]
  },
  {
   "cell_type": "code",
   "execution_count": 44,
   "metadata": {},
   "outputs": [
    {
     "data": {
      "text/plain": [
       "5185.0"
      ]
     },
     "execution_count": 44,
     "metadata": {},
     "output_type": "execute_result"
    }
   ],
   "source": [
    "gss.realinc[gss.sex==1].median()-gss.realinc[gss.sex==2].median()"
   ]
  },
  {
   "cell_type": "code",
   "execution_count": 33,
   "metadata": {},
   "outputs": [],
   "source": [
    "# Solution goes here"
   ]
  },
  {
   "cell_type": "code",
   "execution_count": 34,
   "metadata": {},
   "outputs": [],
   "source": [
    "# Solution goes here"
   ]
  },
  {
   "cell_type": "markdown",
   "metadata": {},
   "source": [
    "**Exercise:**\n",
    "\n",
    "Use a variable to break the dataset into groups and plot multiple CDFs to compare distribution of something within groups.\n",
    "\n",
    "Note: Try to find something interesting, but be cautious about overinterpreting the results.  Between any two groups, there are often many differences, with many possible causes."
   ]
  },
  {
   "cell_type": "code",
   "execution_count": 67,
   "metadata": {},
   "outputs": [
    {
     "data": {
      "text/plain": [
       "0.3117891726548603"
      ]
     },
     "execution_count": 67,
     "metadata": {},
     "output_type": "execute_result"
    }
   ],
   "source": []
  },
  {
   "cell_type": "code",
   "execution_count": 51,
   "metadata": {},
   "outputs": [
    {
     "data": {
      "text/plain": [
       "3019.7963868310326"
      ]
     },
     "execution_count": 51,
     "metadata": {},
     "output_type": "execute_result"
    }
   ],
   "source": [
    "gss.realinc[gss.sibs==1].mean()-gss.realinc[gss.sibs==0].mean()"
   ]
  },
  {
   "cell_type": "code",
   "execution_count": 53,
   "metadata": {},
   "outputs": [
    {
     "name": "stderr",
     "output_type": "stream",
     "text": [
      "No handles with labels found to put in legend.\n"
     ]
    },
    {
     "data": {
      "image/png": "[encoded data removed]",
      "text/plain": [
       "<Figure size 432x288 with 1 Axes>"
      ]
     },
     "metadata": {},
     "output_type": "display_data"
    }
   ],
   "source": [
    "from thinkstats2 import Hist, Pmf, Cdf\n",
    "import thinkplot\n",
    "cdf_1sib=Cdf(gss.realinc[gss.sibs==1])\n",
    "cdf_2sib=Cdf(gss.realinc[gss.sibs==2])\n",
    "width = 0.45\n",
    "thinkplot.PrePlot(2)\n",
    "thinkplot.Cdfs([cdf_1sib, cdf_2sib])\n",
    "thinkplot.Config(xlabel='income', ylabel='Count')"
   ]
  },
  {
   "cell_type": "code",
   "execution_count": 38,
   "metadata": {},
   "outputs": [],
   "source": [
    "# Solution goes here"
   ]
  },
  {
   "cell_type": "markdown",
   "metadata": {},
   "source": [
    "## Save the cleaned data\n",
    "\n",
    "Now that we have the data in good shape, we'll save it in a binary format (HDF5), which will make it faster to load later.\n",
    "\n",
    "Also, we have to do some resampling to make the results representative.  We'll talk about this in class."
   ]
  },
  {
   "cell_type": "code",
   "execution_count": 54,
   "metadata": {},
   "outputs": [],
   "source": [
    "np.random.seed(19)\n",
    "sample = utils.resample_by_year(gss, 'wtssall')"
   ]
  },
  {
   "cell_type": "markdown",
   "metadata": {},
   "source": [
    "Save the file."
   ]
  },
  {
   "cell_type": "code",
   "execution_count": 55,
   "metadata": {},
   "outputs": [
    {
     "name": "stdout",
     "output_type": "stream",
     "text": [
      "rm: cannot remove 'gss.hdf5': No such file or directory\r\n"
     ]
    }
   ],
   "source": [
    "!rm gss.hdf5\n",
    "sample.to_hdf('gss.hdf5', 'gss')"
   ]
  },
  {
   "cell_type": "markdown",
   "metadata": {},
   "source": [
    "Load it and see how fast it is!"
   ]
  },
  {
   "cell_type": "code",
   "execution_count": 56,
   "metadata": {},
   "outputs": [
    {
     "name": "stdout",
     "output_type": "stream",
     "text": [
      "CPU times: user 16 ms, sys: 12 ms, total: 28 ms\n",
      "Wall time: 26.5 ms\n"
     ]
    },
    {
     "data": {
      "text/plain": [
       "(62466, 101)"
      ]
     },
     "execution_count": 56,
     "metadata": {},
     "output_type": "execute_result"
    }
   ],
   "source": [
    "%time gss = pd.read_hdf('gss.hdf5', 'gss')\n",
    "gss.shape"
   ]
  },
  {
   "cell_type": "markdown",
   "metadata": {},
   "source": []
  },
  {
   "cell_type": "code",
   "execution_count": null,
   "metadata": {},
   "outputs": [],
   "source": []
  }
 ],
 "metadata": {
  "kernelspec": {
   "display_name": "Python 3",
   "language": "python",
   "name": "python3"
  },
  "language_info": {
   "codemirror_mode": {
    "name": "ipython",
    "version": 3
   },
   "file_extension": ".py",
   "mimetype": "text/x-python",
   "name": "python",
   "nbconvert_exporter": "python",
   "pygments_lexer": "ipython3",
   "version": "3.7.1"
  }
 },
 "nbformat": 4,
 "nbformat_minor": 1
}
