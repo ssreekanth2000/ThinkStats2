{
 "cells": [
  {
   "cell_type": "markdown",
   "metadata": {},
   "source": [
    "# Examples and Exercises from Think Stats, 2nd Edition\n",
    "\n",
    "http://thinkstats2.com\n",
    "\n",
    "Copyright 2016 Allen B. Downey\n",
    "\n",
    "MIT License: https://opensource.org/licenses/MIT\n"
   ]
  },
  {
   "cell_type": "code",
   "execution_count": 1,
   "metadata": {},
   "outputs": [],
   "source": [
    "from __future__ import print_function, division\n",
    "\n",
    "%matplotlib inline\n",
    "\n",
    "import numpy as np\n",
    "\n",
    "import nsfg\n",
    "import first\n",
    "import thinkstats2\n",
    "import thinkplot"
   ]
  },
  {
   "cell_type": "markdown",
   "metadata": {},
   "source": [
    "## Examples\n",
    "\n",
    "One more time, I'll load the data from the NSFG."
   ]
  },
  {
   "cell_type": "code",
   "execution_count": 2,
   "metadata": {},
   "outputs": [],
   "source": [
    "live, firsts, others = first.MakeFrames()"
   ]
  },
  {
   "cell_type": "markdown",
   "metadata": {},
   "source": [
    "And compute the distribution of birth weight for first babies and others."
   ]
  },
  {
   "cell_type": "code",
   "execution_count": 3,
   "metadata": {},
   "outputs": [
    {
     "name": "stdout",
     "output_type": "stream",
     "text": [
      "Firsts 4413 4363\n",
      "Others 4735 4675\n"
     ]
    }
   ],
   "source": [
    "first_wgt = firsts.totalwgt_lb\n",
    "first_wgt_dropna = first_wgt.dropna()\n",
    "print('Firsts', len(first_wgt), len(first_wgt_dropna))\n",
    " \n",
    "other_wgt = others.totalwgt_lb\n",
    "other_wgt_dropna = other_wgt.dropna()\n",
    "print('Others', len(other_wgt), len(other_wgt_dropna))\n",
    "\n",
    "first_pmf = thinkstats2.Pmf(first_wgt_dropna, label='first')\n",
    "other_pmf = thinkstats2.Pmf(other_wgt_dropna, label='other')"
   ]
  },
  {
   "cell_type": "markdown",
   "metadata": {},
   "source": [
    "We can plot the PMFs on the same scale, but it is hard to see if there is a difference."
   ]
  },
  {
   "cell_type": "code",
   "execution_count": 4,
   "metadata": {},
   "outputs": [
    {
     "data": {
      "image/png": "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\n",
      "text/plain": [
       "<Figure size 432x288 with 1 Axes>"
      ]
     },
     "metadata": {
      "needs_background": "light"
     },
     "output_type": "display_data"
    }
   ],
   "source": [
    "width = 0.4 / 16\n",
    "\n",
    "# plot PMFs of birth weights for first babies and others\n",
    "thinkplot.PrePlot(2)\n",
    "thinkplot.Hist(first_pmf, align='right', width=width)\n",
    "thinkplot.Hist(other_pmf, align='left', width=width)\n",
    "thinkplot.Config(xlabel='Weight (pounds)', ylabel='PMF')"
   ]
  },
  {
   "cell_type": "markdown",
   "metadata": {},
   "source": [
    "`PercentileRank` computes the fraction of `scores` less than or equal to `your_score`."
   ]
  },
  {
   "cell_type": "code",
   "execution_count": 5,
   "metadata": {},
   "outputs": [],
   "source": [
    "def PercentileRank(scores, your_score):\n",
    "    count = 0\n",
    "    for score in scores:\n",
    "        if score <= your_score:\n",
    "            count += 1\n",
    "\n",
    "    percentile_rank = 100.0 * count / len(scores)\n",
    "    return percentile_rank"
   ]
  },
  {
   "cell_type": "markdown",
   "metadata": {},
   "source": [
    "If this is the list of scores."
   ]
  },
  {
   "cell_type": "code",
   "execution_count": 6,
   "metadata": {},
   "outputs": [],
   "source": [
    "t = [-2,-1,0,0,1,1,1,2,3,3]"
   ]
  },
  {
   "cell_type": "markdown",
   "metadata": {},
   "source": [
    "And you got the 88, your percentile rank is 80."
   ]
  },
  {
   "cell_type": "code",
   "execution_count": 7,
   "metadata": {},
   "outputs": [
    {
     "data": {
      "text/plain": [
       "70.0"
      ]
     },
     "execution_count": 7,
     "metadata": {},
     "output_type": "execute_result"
    }
   ],
   "source": [
    "PercentileRank(t, 1)"
   ]
  },
  {
   "cell_type": "markdown",
   "metadata": {},
   "source": [
    "`Percentile` takes a percentile rank and computes the corresponding percentile. "
   ]
  },
  {
   "cell_type": "code",
   "execution_count": 8,
   "metadata": {},
   "outputs": [],
   "source": [
    "def Percentile(scores, percentile_rank):\n",
    "    scores.sort()\n",
    "    for score in scores:\n",
    "        if PercentileRank(scores, score) >= percentile_rank:\n",
    "            return score"
   ]
  },
  {
   "cell_type": "markdown",
   "metadata": {},
   "source": [
    "The median is the 50th percentile, which is 77."
   ]
  },
  {
   "cell_type": "code",
   "execution_count": 9,
   "metadata": {},
   "outputs": [
    {
     "data": {
      "text/plain": [
       "1"
      ]
     },
     "execution_count": 9,
     "metadata": {},
     "output_type": "execute_result"
    }
   ],
   "source": [
    "Percentile(t, 50)"
   ]
  },
  {
   "cell_type": "markdown",
   "metadata": {},
   "source": [
    "Here's a more efficient way to compute percentiles."
   ]
  },
  {
   "cell_type": "code",
   "execution_count": 10,
   "metadata": {},
   "outputs": [],
   "source": [
    "def Percentile2(scores, percentile_rank):\n",
    "    scores.sort()\n",
    "    index = percentile_rank * (len(scores)-1) // 100\n",
    "    return scores[index]"
   ]
  },
  {
   "cell_type": "markdown",
   "metadata": {},
   "source": [
    "Let's hope we get the same answer."
   ]
  },
  {
   "cell_type": "code",
   "execution_count": 11,
   "metadata": {},
   "outputs": [
    {
     "data": {
      "text/plain": [
       "1"
      ]
     },
     "execution_count": 11,
     "metadata": {},
     "output_type": "execute_result"
    }
   ],
   "source": [
    "Percentile2(t, 50)"
   ]
  },
  {
   "cell_type": "markdown",
   "metadata": {},
   "source": [
    "The Cumulative Distribution Function (CDF) is almost the same as `PercentileRank`.  The only difference is that the result is 0-1 instead of 0-100."
   ]
  },
  {
   "cell_type": "code",
   "execution_count": 12,
   "metadata": {},
   "outputs": [],
   "source": [
    "def EvalCdf(sample, x):\n",
    "    count = 0.0\n",
    "    for value in sample:\n",
    "        if value <= x:\n",
    "            count += 1\n",
    "\n",
    "    prob = count / len(sample)\n",
    "    return prob"
   ]
  },
  {
   "cell_type": "markdown",
   "metadata": {},
   "source": [
    "In this list"
   ]
  },
  {
   "cell_type": "code",
   "execution_count": 13,
   "metadata": {},
   "outputs": [],
   "source": [
    "t = [-2,-1,0,0,1,1,1,2,3,3]"
   ]
  },
  {
   "cell_type": "markdown",
   "metadata": {},
   "source": [
    "We can evaluate the CDF for various values:"
   ]
  },
  {
   "cell_type": "code",
   "execution_count": 14,
   "metadata": {},
   "outputs": [
    {
     "data": {
      "text/plain": [
       "(0.4, 0.7, 0.8, 1.0, 1.0, 1.0)"
      ]
     },
     "execution_count": 14,
     "metadata": {},
     "output_type": "execute_result"
    }
   ],
   "source": [
    "EvalCdf(t, 0.7), EvalCdf(t, 1), EvalCdf(t, 2), EvalCdf(t, 3), EvalCdf(t, 4), EvalCdf(t, 5)"
   ]
  },
  {
   "cell_type": "markdown",
   "metadata": {},
   "source": [
    "Here's an example using real data, the distribution of pregnancy length for live births."
   ]
  },
  {
   "cell_type": "code",
   "execution_count": 15,
   "metadata": {},
   "outputs": [
    {
     "name": "stderr",
     "output_type": "stream",
     "text": [
      "No handles with labels found to put in legend.\n"
     ]
    },
    {
     "data": {
<<<<<<< HEAD
      "image/png": "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\n",
||||||| merged common ancestors
      "image/png": "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\n",
=======
      "image/png": "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\n",
>>>>>>> 78c51dc105866ba66729eda1d488375e0ceea3fa
      "text/plain": [
       "<Figure size 432x288 with 1 Axes>"
      ]
     },
     "metadata": {
      "needs_background": "light"
     },
     "output_type": "display_data"
    }
   ],
   "source": [
    "cdf = thinkstats2.Cdf(t)\n",
    "thinkplot.Cdf(cdf)\n",
    "thinkplot.Config(xlabel='Pregnancy length (weeks)', ylabel='CDF', loc='upper left')"
   ]
  },
  {
   "cell_type": "markdown",
   "metadata": {},
   "source": [
    "`Cdf` provides `Prob`, which evaluates the CDF; that is, it computes the fraction of values less than or equal to the given value.  For example, 94% of pregnancy lengths are less than or equal to 41."
   ]
  },
  {
   "cell_type": "code",
   "execution_count": 16,
   "metadata": {},
   "outputs": [
    {
     "data": {
      "text/plain": [
       "0.7"
      ]
     },
     "execution_count": 16,
     "metadata": {},
     "output_type": "execute_result"
    }
   ],
   "source": [
    "cdf.Prob(1)"
   ]
  },
  {
   "cell_type": "markdown",
   "metadata": {
    "collapsed": true
   },
   "source": [
    "`Value` evaluates the inverse CDF; given a fraction, it computes the corresponding value.  For example, the median is the value that corresponds to 0.5."
   ]
  },
  {
   "cell_type": "code",
   "execution_count": 17,
   "metadata": {},
   "outputs": [
    {
     "data": {
      "text/plain": [
       "1"
      ]
     },
     "execution_count": 17,
     "metadata": {},
     "output_type": "execute_result"
    }
   ],
   "source": [
    "cdf.Value(0.5)"
   ]
  },
  {
   "cell_type": "markdown",
   "metadata": {},
   "source": [
    "In general, CDFs are a good way to visualize distributions.  They are not as noisy as PMFs, and if you plot several CDFs on the same axes, any differences between them are apparent."
   ]
  },
  {
   "cell_type": "code",
   "execution_count": 18,
   "metadata": {},
   "outputs": [
    {
     "data": {
      "image/png": "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\n",
      "text/plain": [
       "<Figure size 432x288 with 1 Axes>"
      ]
     },
     "metadata": {
      "needs_background": "light"
     },
     "output_type": "display_data"
    }
   ],
   "source": [
    "first_cdf = thinkstats2.Cdf(firsts.totalwgt_lb, label='first')\n",
    "other_cdf = thinkstats2.Cdf(others.totalwgt_lb, label='other')\n",
    "\n",
    "thinkplot.PrePlot(2)\n",
    "thinkplot.Cdfs([first_cdf, other_cdf])\n",
    "thinkplot.Config(xlabel='Weight (pounds)', ylabel='CDF')"
   ]
  },
  {
   "cell_type": "markdown",
   "metadata": {},
   "source": [
    "In this example, we can see that first babies are slightly, but consistently, lighter than others.\n",
    "\n",
    "We can use the CDF of birth weight to compute percentile-based statistics."
   ]
  },
  {
   "cell_type": "code",
   "execution_count": 19,
   "metadata": {},
   "outputs": [],
   "source": [
    "weights = live.totalwgt_lb\n",
    "live_cdf = thinkstats2.Cdf(weights, label='live')"
   ]
  },
  {
   "cell_type": "markdown",
   "metadata": {},
   "source": [
    "Again, the median is the 50th percentile."
   ]
  },
  {
   "cell_type": "code",
   "execution_count": 20,
   "metadata": {},
   "outputs": [
    {
     "data": {
      "text/plain": [
       "7.375"
      ]
     },
     "execution_count": 20,
     "metadata": {},
     "output_type": "execute_result"
    }
   ],
   "source": [
    "median = live_cdf.Percentile(50)\n",
    "median"
   ]
  },
  {
   "cell_type": "markdown",
   "metadata": {},
   "source": [
    "The interquartile range is the interval from the 25th to 75th percentile."
   ]
  },
  {
   "cell_type": "code",
   "execution_count": 21,
   "metadata": {},
   "outputs": [
    {
     "data": {
      "text/plain": [
       "(6.5, 8.125)"
      ]
     },
     "execution_count": 21,
     "metadata": {},
     "output_type": "execute_result"
    }
   ],
   "source": [
    "iqr = (live_cdf.Percentile(25), live_cdf.Percentile(75))\n",
    "iqr"
   ]
  },
  {
   "cell_type": "markdown",
   "metadata": {},
   "source": [
    "We can use the CDF to look up the percentile rank of a particular value.  For example, my second daughter was 10.2 pounds at birth, which is near the 99th percentile."
   ]
  },
  {
   "cell_type": "code",
   "execution_count": 22,
   "metadata": {},
   "outputs": [
    {
     "data": {
      "text/plain": [
       "98.82717415357381"
      ]
     },
     "execution_count": 22,
     "metadata": {},
     "output_type": "execute_result"
    }
   ],
   "source": [
    "live_cdf.PercentileRank(10.2)"
   ]
  },
  {
   "cell_type": "markdown",
   "metadata": {},
   "source": [
    "If we draw a random sample from the observed weights and map each weigh to its percentile rank."
   ]
  },
  {
   "cell_type": "code",
   "execution_count": 23,
   "metadata": {},
   "outputs": [],
   "source": [
    "sample = np.random.choice(weights, 100, replace=True)\n",
    "ranks = [live_cdf.PercentileRank(x) for x in sample]"
   ]
  },
  {
   "cell_type": "markdown",
   "metadata": {},
   "source": [
    "The resulting list of ranks should be approximately uniform from 0-1."
   ]
  },
  {
   "cell_type": "code",
   "execution_count": 24,
   "metadata": {},
   "outputs": [
    {
     "name": "stderr",
     "output_type": "stream",
     "text": [
      "No handles with labels found to put in legend.\n"
     ]
    },
    {
     "data": {
<<<<<<< HEAD
      "image/png": "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\n",
||||||| merged common ancestors
      "image/png": "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\n",
=======
      "image/png": "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\n",
>>>>>>> 78c51dc105866ba66729eda1d488375e0ceea3fa
      "text/plain": [
       "<Figure size 432x288 with 1 Axes>"
      ]
     },
     "metadata": {
      "needs_background": "light"
     },
     "output_type": "display_data"
    }
   ],
   "source": [
    "rank_cdf = thinkstats2.Cdf(ranks)\n",
    "thinkplot.Cdf(rank_cdf)\n",
    "thinkplot.Config(xlabel='Percentile rank', ylabel='CDF')"
   ]
  },
  {
   "cell_type": "markdown",
   "metadata": {},
   "source": [
    "That observation is the basis of `Cdf.Sample`, which generates a random sample from a Cdf.  Here's an example."
   ]
  },
  {
   "cell_type": "code",
   "execution_count": 25,
   "metadata": {},
   "outputs": [
    {
     "data": {
<<<<<<< HEAD
      "image/png": "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\n",
||||||| merged common ancestors
      "image/png": "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\n",
=======
      "image/png": "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\n",
>>>>>>> 78c51dc105866ba66729eda1d488375e0ceea3fa
      "text/plain": [
       "<Figure size 432x288 with 1 Axes>"
      ]
     },
     "metadata": {
      "needs_background": "light"
     },
     "output_type": "display_data"
    }
   ],
   "source": [
    "resample = live_cdf.Sample(1000)\n",
    "thinkplot.Cdf(live_cdf)\n",
    "thinkplot.Cdf(thinkstats2.Cdf(resample, label='resample'))\n",
    "thinkplot.Config(xlabel='Birth weight (pounds)', ylabel='CDF')"
   ]
  },
  {
   "cell_type": "markdown",
   "metadata": {},
   "source": [
    "This confirms that the random sample has the same distribution as the original data."
   ]
  },
  {
   "cell_type": "markdown",
   "metadata": {
    "collapsed": true
   },
   "source": [
    "## Exercises"
   ]
  },
  {
   "cell_type": "markdown",
   "metadata": {
    "collapsed": true
   },
   "source": [
    "**Exercise:** How much did you weigh at birth? If you don’t know, call your mother or someone else who knows. Using the NSFG data (all live births), compute the distribution of birth weights and use it to find your percentile rank. If you were a first baby, find your percentile rank in the distribution for first babies. Otherwise use the distribution for others. If you are in the 90th percentile or higher, call your mother back and apologize."
   ]
  },
  {
   "cell_type": "code",
   "execution_count": 27,
   "metadata": {},
   "outputs": [
    {
     "data": {
      "text/plain": [
       "40.185881832263775"
      ]
     },
     "execution_count": 27,
     "metadata": {},
     "output_type": "execute_result"
    }
   ],
   "source": [
    "weights = live.totalwgt_lb\n",
    "live_cdf = thinkstats2.Cdf(weights, label='live')\n",
    "live_cdf.PercentileRank(3.2*2.2)"
   ]
  },
  {
   "cell_type": "code",
   "execution_count": 27,
   "metadata": {},
   "outputs": [],
   "source": [
    "# Solution goes here"
   ]
  },
  {
   "cell_type": "markdown",
   "metadata": {
    "collapsed": true
   },
   "source": [
    "**Exercise:** The numbers generated by `numpy.random.random` are supposed to be uniform between 0 and 1; that is, every value in the range should have the same probability.\n",
    "\n",
    "Generate 1000 numbers from `numpy.random.random` and plot their PMF.  What goes wrong?\n",
    "\n",
    "Now plot the CDF. Is the distribution uniform?"
   ]
  },
  {
   "cell_type": "code",
   "execution_count": 45,
   "metadata": {},
   "outputs": [
    {
     "data": {
      "image/png": "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\n",
      "text/plain": [
       "<Figure size 432x288 with 1 Axes>"
      ]
     },
     "metadata": {
      "needs_background": "light"
     },
     "output_type": "display_data"
    }
   ],
   "source": [
    "import numpy\n",
    "rand=numpy.random.random([1000]);\n",
    "pmf_rand=thinkstats2.Pmf(rand)\n",
    "thinkplot.pmf(pmf_rand)"
   ]
  },
  {
   "cell_type": "code",
   "execution_count": 46,
   "metadata": {},
   "outputs": [
    {
     "data": {
      "text/plain": [
       "{'xscale': 'linear', 'yscale': 'linear'}"
      ]
     },
     "execution_count": 46,
     "metadata": {},
     "output_type": "execute_result"
    },
    {
     "data": {
      "image/png": "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\n",
      "text/plain": [
       "<Figure size 432x288 with 1 Axes>"
      ]
     },
     "metadata": {
      "needs_background": "light"
     },
     "output_type": "display_data"
    }
   ],
   "source": [
    "\n",
    "cdf_rand=thinkstats2.Cdf(rand)\n",
    "thinkplot.cdf(cdf_rand)"
   ]
  },
  {
   "cell_type": "code",
   "execution_count": 30,
   "metadata": {},
   "outputs": [],
   "source": [
    "# Solution goes here"
   ]
  },
  {
   "cell_type": "code",
   "execution_count": null,
   "metadata": {},
   "outputs": [],
   "source": []
  }
 ],
 "metadata": {
  "kernelspec": {
   "display_name": "Python 3",
   "language": "python",
   "name": "python3"
  },
  "language_info": {
   "codemirror_mode": {
    "name": "ipython",
    "version": 3
   },
   "file_extension": ".py",
   "mimetype": "text/x-python",
   "name": "python",
   "nbconvert_exporter": "python",
   "pygments_lexer": "ipython3",
<<<<<<< HEAD
   "version": "3.7.1"
||||||| merged common ancestors
   "version": "3.6.6"
=======
   "version": "3.6.7"
>>>>>>> 78c51dc105866ba66729eda1d488375e0ceea3fa
  }
 },
 "nbformat": 4,
 "nbformat_minor": 1
}
